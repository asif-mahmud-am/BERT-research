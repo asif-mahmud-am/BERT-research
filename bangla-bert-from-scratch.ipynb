{
 "cells": [
  {
   "cell_type": "code",
   "execution_count": null,
   "metadata": {
    "_cell_guid": "b1076dfc-b9ad-4769-8c92-a6c4dae69d19",
    "_uuid": "8f2839f25d086af736a60e9eeb907d3b93b6e0e5",
    "execution": {
     "iopub.execute_input": "2021-11-27T13:24:04.020912Z",
     "iopub.status.busy": "2021-11-27T13:24:04.020587Z",
     "iopub.status.idle": "2021-11-27T13:24:12.529362Z",
     "shell.execute_reply": "2021-11-27T13:24:12.528554Z",
     "shell.execute_reply.started": "2021-11-27T13:24:04.020827Z"
    }
   },
   "outputs": [],
   "source": [
    "!pip install datasets"
   ]
  },
  {
   "cell_type": "code",
   "execution_count": null,
   "metadata": {
    "execution": {
     "iopub.execute_input": "2021-11-27T13:24:34.844242Z",
     "iopub.status.busy": "2021-11-27T13:24:34.843969Z",
     "iopub.status.idle": "2021-11-27T13:24:40.846956Z",
     "shell.execute_reply": "2021-11-27T13:24:40.846275Z",
     "shell.execute_reply.started": "2021-11-27T13:24:34.844212Z"
    }
   },
   "outputs": [],
   "source": [
    "import datasets"
   ]
  },
  {
   "cell_type": "code",
   "execution_count": null,
   "metadata": {
    "execution": {
     "iopub.execute_input": "2021-11-27T13:24:56.909427Z",
     "iopub.status.busy": "2021-11-27T13:24:56.909173Z",
     "iopub.status.idle": "2021-11-27T13:24:57.724357Z",
     "shell.execute_reply": "2021-11-27T13:24:57.723663Z",
     "shell.execute_reply.started": "2021-11-27T13:24:56.909398Z"
    }
   },
   "outputs": [],
   "source": [
    "all_ds = datasets.list_datasets()\n",
    "all_ds[:5] "
   ]
  },
  {
   "cell_type": "code",
   "execution_count": null,
   "metadata": {
    "execution": {
     "iopub.execute_input": "2021-11-27T13:26:50.068394Z",
     "iopub.status.busy": "2021-11-27T13:26:50.067916Z",
     "iopub.status.idle": "2021-11-27T13:29:49.960493Z",
     "shell.execute_reply": "2021-11-27T13:29:49.95969Z",
     "shell.execute_reply.started": "2021-11-27T13:26:50.068356Z"
    }
   },
   "outputs": [],
   "source": [
    "dataset = datasets.load_dataset('oscar', 'unshuffled_deduplicated_bn')"
   ]
  },
  {
   "cell_type": "code",
   "execution_count": null,
   "metadata": {
    "execution": {
     "iopub.execute_input": "2021-11-27T13:30:21.80273Z",
     "iopub.status.busy": "2021-11-27T13:30:21.802476Z",
     "iopub.status.idle": "2021-11-27T13:30:21.808681Z",
     "shell.execute_reply": "2021-11-27T13:30:21.807929Z",
     "shell.execute_reply.started": "2021-11-27T13:30:21.8027Z"
    }
   },
   "outputs": [],
   "source": [
    "dataset"
   ]
  },
  {
   "cell_type": "code",
   "execution_count": null,
   "metadata": {
    "execution": {
     "iopub.execute_input": "2021-11-27T13:30:43.189263Z",
     "iopub.status.busy": "2021-11-27T13:30:43.188584Z",
     "iopub.status.idle": "2021-11-27T13:30:43.19914Z",
     "shell.execute_reply": "2021-11-27T13:30:43.198358Z",
     "shell.execute_reply.started": "2021-11-27T13:30:43.189224Z"
    }
   },
   "outputs": [],
   "source": [
    "dataset['train'][0]"
   ]
  },
  {
   "cell_type": "code",
   "execution_count": null,
   "metadata": {
    "execution": {
     "iopub.execute_input": "2021-11-27T13:33:23.546891Z",
     "iopub.status.busy": "2021-11-27T13:33:23.5462Z",
     "iopub.status.idle": "2021-11-27T13:35:37.71222Z",
     "shell.execute_reply": "2021-11-27T13:35:37.711489Z",
     "shell.execute_reply.started": "2021-11-27T13:33:23.546849Z"
    }
   },
   "outputs": [],
   "source": [
    "from tqdm.auto import tqdm\n",
    "\n",
    "text_data = []\n",
    "file_count = 0\n",
    "\n",
    "for sample in tqdm(dataset['train']):\n",
    "    sample = sample['text'].replace('\\n', '')\n",
    "    text_data.append(sample)\n",
    "    if len(text_data) == 6_000:\n",
    "        # once we git the 6K mark, save to file\n",
    "        with open(f'./text_{file_count}.txt', 'w', encoding='utf-8') as fp:\n",
    "            fp.write('\\n'.join(text_data))\n",
    "        text_data = []\n",
    "        file_count += 1\n",
    "# after saving in 6K chunks, we will have ~808 leftover samples, we save those now too\n",
    "with open(f'./text_{file_count}.txt', 'w', encoding='utf-8') as fp:\n",
    "    fp.write('\\n'.join(text_data))"
   ]
  },
  {
   "cell_type": "code",
   "execution_count": null,
   "metadata": {
    "execution": {
     "iopub.execute_input": "2021-11-27T13:36:31.48562Z",
     "iopub.status.busy": "2021-11-27T13:36:31.484929Z",
     "iopub.status.idle": "2021-11-27T13:36:31.49322Z",
     "shell.execute_reply": "2021-11-27T13:36:31.492456Z",
     "shell.execute_reply.started": "2021-11-27T13:36:31.485585Z"
    }
   },
   "outputs": [],
   "source": [
    "from pathlib import Path\n",
    "paths = [str(x) for x in Path('./').glob('**/*.txt')] "
   ]
  },
  {
   "cell_type": "code",
   "execution_count": null,
   "metadata": {
    "execution": {
     "iopub.execute_input": "2021-11-27T13:37:29.038557Z",
     "iopub.status.busy": "2021-11-27T13:37:29.038228Z",
     "iopub.status.idle": "2021-11-27T13:37:29.047339Z",
     "shell.execute_reply": "2021-11-27T13:37:29.046634Z",
     "shell.execute_reply.started": "2021-11-27T13:37:29.038519Z"
    }
   },
   "outputs": [],
   "source": [
    "paths[:10]"
   ]
  },
  {
   "cell_type": "code",
   "execution_count": null,
   "metadata": {
    "execution": {
     "iopub.execute_input": "2021-11-27T13:38:03.087234Z",
     "iopub.status.busy": "2021-11-27T13:38:03.086689Z",
     "iopub.status.idle": "2021-11-27T13:38:11.940666Z",
     "shell.execute_reply": "2021-11-27T13:38:11.939819Z",
     "shell.execute_reply.started": "2021-11-27T13:38:03.087197Z"
    }
   },
   "outputs": [],
   "source": [
    "!pip install transformers"
   ]
  },
  {
   "cell_type": "code",
   "execution_count": null,
   "metadata": {
    "execution": {
     "iopub.execute_input": "2021-11-27T13:38:29.274933Z",
     "iopub.status.busy": "2021-11-27T13:38:29.274645Z",
     "iopub.status.idle": "2021-11-27T13:38:29.368458Z",
     "shell.execute_reply": "2021-11-27T13:38:29.367803Z",
     "shell.execute_reply.started": "2021-11-27T13:38:29.274901Z"
    }
   },
   "outputs": [],
   "source": [
    "from tokenizers import ByteLevelBPETokenizer\n",
    "\n",
    "tokenizer = ByteLevelBPETokenizer()"
   ]
  },
  {
   "cell_type": "code",
   "execution_count": null,
   "metadata": {
    "execution": {
     "iopub.execute_input": "2021-11-27T13:39:05.36869Z",
     "iopub.status.busy": "2021-11-27T13:39:05.368396Z",
     "iopub.status.idle": "2021-11-27T13:41:27.241813Z",
     "shell.execute_reply": "2021-11-27T13:41:27.241037Z",
     "shell.execute_reply.started": "2021-11-27T13:39:05.36866Z"
    }
   },
   "outputs": [],
   "source": [
    "tokenizer.train(files=paths[:10], \n",
    "                vocab_size=30_522,\n",
    "                min_frequency=2,\n",
    "                special_tokens=['<s>', '<pad>', '</s>', '<unk>', '<mask>'])"
   ]
  },
  {
   "cell_type": "code",
   "execution_count": null,
   "metadata": {
    "execution": {
     "iopub.execute_input": "2021-11-27T13:43:03.061902Z",
     "iopub.status.busy": "2021-11-27T13:43:03.061626Z",
     "iopub.status.idle": "2021-11-27T13:43:03.09386Z",
     "shell.execute_reply": "2021-11-27T13:43:03.092853Z",
     "shell.execute_reply.started": "2021-11-27T13:43:03.061872Z"
    }
   },
   "outputs": [],
   "source": [
    "import os\n",
    "\n",
    "os.mkdir('./bert-bn')\n",
    "\n",
    "tokenizer.save_model('bert-bn') "
   ]
  },
  {
   "cell_type": "code",
   "execution_count": null,
   "metadata": {
    "execution": {
     "iopub.execute_input": "2021-11-27T13:45:11.251644Z",
     "iopub.status.busy": "2021-11-27T13:45:11.251353Z",
     "iopub.status.idle": "2021-11-27T13:45:11.440959Z",
     "shell.execute_reply": "2021-11-27T13:45:11.440191Z",
     "shell.execute_reply.started": "2021-11-27T13:45:11.251613Z"
    }
   },
   "outputs": [],
   "source": [
    "from transformers import RobertaTokenizer\n",
    "\n",
    "# initialize the tokenizer using the tokenizer we initialized and saved to file\n",
    "tokenizer = RobertaTokenizer.from_pretrained('bert-bn', max_len=512)"
   ]
  },
  {
   "cell_type": "code",
   "execution_count": null,
   "metadata": {
    "execution": {
     "iopub.execute_input": "2021-11-27T13:46:49.532478Z",
     "iopub.status.busy": "2021-11-27T13:46:49.532214Z",
     "iopub.status.idle": "2021-11-27T13:46:49.53969Z",
     "shell.execute_reply": "2021-11-27T13:46:49.538942Z",
     "shell.execute_reply.started": "2021-11-27T13:46:49.532449Z"
    }
   },
   "outputs": [],
   "source": [
    "tokens = tokenizer('আমার জন্য এটি একটি স্মরণীয় অর্জন')"
   ]
  },
  {
   "cell_type": "code",
   "execution_count": null,
   "metadata": {
    "execution": {
     "iopub.execute_input": "2021-11-27T13:47:07.697602Z",
     "iopub.status.busy": "2021-11-27T13:47:07.697337Z",
     "iopub.status.idle": "2021-11-27T13:47:07.703578Z",
     "shell.execute_reply": "2021-11-27T13:47:07.702634Z",
     "shell.execute_reply.started": "2021-11-27T13:47:07.697574Z"
    }
   },
   "outputs": [],
   "source": [
    "print(tokens)"
   ]
  },
  {
   "cell_type": "code",
   "execution_count": null,
   "metadata": {
    "execution": {
     "iopub.execute_input": "2021-11-27T13:48:22.503731Z",
     "iopub.status.busy": "2021-11-27T13:48:22.503477Z",
     "iopub.status.idle": "2021-11-27T13:48:22.508992Z",
     "shell.execute_reply": "2021-11-27T13:48:22.50818Z",
     "shell.execute_reply.started": "2021-11-27T13:48:22.503703Z"
    }
   },
   "outputs": [],
   "source": [
    "token = tokenizer('আমি ইচ্ছা করলে প্রত্যেককে সঠিক দিক নির্দেশ দিতাম')"
   ]
  },
  {
   "cell_type": "code",
   "execution_count": null,
   "metadata": {
    "execution": {
     "iopub.execute_input": "2021-11-27T13:48:32.571366Z",
     "iopub.status.busy": "2021-11-27T13:48:32.570794Z",
     "iopub.status.idle": "2021-11-27T13:48:32.57666Z",
     "shell.execute_reply": "2021-11-27T13:48:32.57599Z",
     "shell.execute_reply.started": "2021-11-27T13:48:32.571327Z"
    }
   },
   "outputs": [],
   "source": [
    "print(token)"
   ]
  },
  {
   "cell_type": "code",
   "execution_count": null,
   "metadata": {
    "execution": {
     "iopub.execute_input": "2021-11-27T13:48:55.267337Z",
     "iopub.status.busy": "2021-11-27T13:48:55.266793Z",
     "iopub.status.idle": "2021-11-27T13:48:55.272634Z",
     "shell.execute_reply": "2021-11-27T13:48:55.27198Z",
     "shell.execute_reply.started": "2021-11-27T13:48:55.2673Z"
    }
   },
   "outputs": [],
   "source": [
    "token.input_ids"
   ]
  },
  {
   "cell_type": "code",
   "execution_count": null,
   "metadata": {
    "execution": {
     "iopub.execute_input": "2021-11-27T14:34:51.395422Z",
     "iopub.status.busy": "2021-11-27T14:34:51.394869Z",
     "iopub.status.idle": "2021-11-27T14:34:51.588511Z",
     "shell.execute_reply": "2021-11-27T14:34:51.585527Z",
     "shell.execute_reply.started": "2021-11-27T14:34:51.395385Z"
    }
   },
   "outputs": [],
   "source": [
    "with open('./text_1.txt', 'r', encoding='utf-8') as fp:\n",
    "    lines = fp.read().split('\\n')"
   ]
  },
  {
   "cell_type": "code",
   "execution_count": null,
   "metadata": {
    "execution": {
     "iopub.execute_input": "2021-11-27T14:35:33.954248Z",
     "iopub.status.busy": "2021-11-27T14:35:33.953696Z",
     "iopub.status.idle": "2021-11-27T14:35:34.216907Z",
     "shell.execute_reply": "2021-11-27T14:35:34.216135Z",
     "shell.execute_reply.started": "2021-11-27T14:35:33.954212Z"
    }
   },
   "outputs": [],
   "source": [
    "with open('./text_0.txt', 'r', encoding='utf-8') as fp:\n",
    "    lines_1 = fp.read().split('\\n')"
   ]
  },
  {
   "cell_type": "code",
   "execution_count": null,
   "metadata": {
    "execution": {
     "iopub.execute_input": "2021-11-27T14:35:51.191816Z",
     "iopub.status.busy": "2021-11-27T14:35:51.191544Z",
     "iopub.status.idle": "2021-11-27T14:35:51.200383Z",
     "shell.execute_reply": "2021-11-27T14:35:51.199465Z",
     "shell.execute_reply.started": "2021-11-27T14:35:51.19177Z"
    }
   },
   "outputs": [],
   "source": [
    "lines_1[0]"
   ]
  },
  {
   "cell_type": "code",
   "execution_count": null,
   "metadata": {},
   "outputs": [],
   "source": []
  },
  {
   "cell_type": "code",
   "execution_count": null,
   "metadata": {},
   "outputs": [],
   "source": []
  },
  {
   "cell_type": "code",
   "execution_count": null,
   "metadata": {
    "execution": {
     "iopub.execute_input": "2021-11-27T14:12:43.358629Z",
     "iopub.status.busy": "2021-11-27T14:12:43.357885Z",
     "iopub.status.idle": "2021-11-27T14:14:27.102348Z",
     "shell.execute_reply": "2021-11-27T14:14:27.101658Z",
     "shell.execute_reply.started": "2021-11-27T14:12:43.358583Z"
    }
   },
   "outputs": [],
   "source": [
    "batch = tokenizer(lines, max_length=512, padding='max_length', truncation=True)\n",
    "len(batch)"
   ]
  },
  {
   "cell_type": "code",
   "execution_count": null,
   "metadata": {
    "execution": {
     "iopub.execute_input": "2021-11-27T14:14:32.31918Z",
     "iopub.status.busy": "2021-11-27T14:14:32.318915Z",
     "iopub.status.idle": "2021-11-27T14:14:32.996638Z",
     "shell.execute_reply": "2021-11-27T14:14:32.995882Z",
     "shell.execute_reply.started": "2021-11-27T14:14:32.319151Z"
    }
   },
   "outputs": [],
   "source": [
    "import torch\n",
    "\n",
    "labels = torch.tensor([x for x in batch['input_ids']])\n",
    "mask = torch.tensor([x for x in batch['attention_mask']])"
   ]
  },
  {
   "cell_type": "code",
   "execution_count": null,
   "metadata": {
    "execution": {
     "iopub.execute_input": "2021-11-27T14:14:39.686187Z",
     "iopub.status.busy": "2021-11-27T14:14:39.685608Z",
     "iopub.status.idle": "2021-11-27T14:14:39.694819Z",
     "shell.execute_reply": "2021-11-27T14:14:39.69378Z",
     "shell.execute_reply.started": "2021-11-27T14:14:39.686146Z"
    }
   },
   "outputs": [],
   "source": [
    "labels"
   ]
  },
  {
   "cell_type": "code",
   "execution_count": null,
   "metadata": {
    "execution": {
     "iopub.execute_input": "2021-11-27T14:14:47.989192Z",
     "iopub.status.busy": "2021-11-27T14:14:47.988651Z",
     "iopub.status.idle": "2021-11-27T14:14:48.210514Z",
     "shell.execute_reply": "2021-11-27T14:14:48.209783Z",
     "shell.execute_reply.started": "2021-11-27T14:14:47.989151Z"
    }
   },
   "outputs": [],
   "source": [
    "# make copy of labels tensor, this will be input_ids\n",
    "input_ids = labels.detach().clone()\n",
    "# create random array of floats with equal dims to input_ids\n",
    "rand = torch.rand(input_ids.shape)\n",
    "# mask random 15% where token is not 0 [PAD], 1 [CLS], or 2 [SEP]\n",
    "# mask_arr = (rand < .15) * (input_ids != 0) * (input_ids != 1) * (input_ids != 2)\n",
    "mask_arr = (rand < .15) * (input_ids > 2) \n",
    "# loop through each row in input_ids tensor (cannot do in parallel)\n",
    "for i in range(input_ids.shape[0]):\n",
    "    # get indices of mask positions from mask array\n",
    "    selection = torch.flatten(mask_arr[i].nonzero()).tolist()\n",
    "    # mask input_ids\n",
    "    input_ids[i, selection] = 4  # our custom [MASK] token == 3"
   ]
  },
  {
   "cell_type": "code",
   "execution_count": null,
   "metadata": {
    "execution": {
     "iopub.execute_input": "2021-11-27T14:14:53.902701Z",
     "iopub.status.busy": "2021-11-27T14:14:53.902099Z",
     "iopub.status.idle": "2021-11-27T14:14:53.907857Z",
     "shell.execute_reply": "2021-11-27T14:14:53.907125Z",
     "shell.execute_reply.started": "2021-11-27T14:14:53.902661Z"
    }
   },
   "outputs": [],
   "source": [
    "input_ids.shape"
   ]
  },
  {
   "cell_type": "code",
   "execution_count": null,
   "metadata": {
    "execution": {
     "iopub.execute_input": "2021-11-27T14:14:57.444256Z",
     "iopub.status.busy": "2021-11-27T14:14:57.443978Z",
     "iopub.status.idle": "2021-11-27T14:14:57.452369Z",
     "shell.execute_reply": "2021-11-27T14:14:57.451408Z",
     "shell.execute_reply.started": "2021-11-27T14:14:57.444226Z"
    }
   },
   "outputs": [],
   "source": [
    "input_ids[0][:200]"
   ]
  },
  {
   "cell_type": "code",
   "execution_count": null,
   "metadata": {
    "execution": {
     "iopub.execute_input": "2021-11-27T14:15:03.427857Z",
     "iopub.status.busy": "2021-11-27T14:15:03.426824Z",
     "iopub.status.idle": "2021-11-27T14:15:03.432384Z",
     "shell.execute_reply": "2021-11-27T14:15:03.431675Z",
     "shell.execute_reply.started": "2021-11-27T14:15:03.427775Z"
    }
   },
   "outputs": [],
   "source": [
    "encodings = {'input_ids': input_ids, 'attention_mask': mask, 'labels': labels}"
   ]
  },
  {
   "cell_type": "code",
   "execution_count": null,
   "metadata": {
    "execution": {
     "iopub.execute_input": "2021-11-27T14:15:14.721028Z",
     "iopub.status.busy": "2021-11-27T14:15:14.72066Z",
     "iopub.status.idle": "2021-11-27T14:15:14.727212Z",
     "shell.execute_reply": "2021-11-27T14:15:14.726456Z",
     "shell.execute_reply.started": "2021-11-27T14:15:14.720991Z"
    }
   },
   "outputs": [],
   "source": [
    "class Dataset(torch.utils.data.Dataset):\n",
    "    def __init__(self, encodings):\n",
    "        # store encodings internally\n",
    "        self.encodings = encodings\n",
    "\n",
    "    def __len__(self):\n",
    "        # return the number of samples\n",
    "        return self.encodings['input_ids'].shape[0]\n",
    "\n",
    "    def __getitem__(self, i):\n",
    "        # return dictionary of input_ids, attention_mask, and labels for index i\n",
    "        return {key: tensor[i] for key, tensor in self.encodings.items()}"
   ]
  },
  {
   "cell_type": "code",
   "execution_count": null,
   "metadata": {
    "execution": {
     "iopub.execute_input": "2021-11-27T14:15:22.360739Z",
     "iopub.status.busy": "2021-11-27T14:15:22.359962Z",
     "iopub.status.idle": "2021-11-27T14:15:22.364312Z",
     "shell.execute_reply": "2021-11-27T14:15:22.363311Z",
     "shell.execute_reply.started": "2021-11-27T14:15:22.360691Z"
    }
   },
   "outputs": [],
   "source": [
    "dataset = Dataset(encodings)"
   ]
  },
  {
   "cell_type": "code",
   "execution_count": null,
   "metadata": {
    "execution": {
     "iopub.execute_input": "2021-11-27T14:15:30.506057Z",
     "iopub.status.busy": "2021-11-27T14:15:30.50527Z",
     "iopub.status.idle": "2021-11-27T14:15:30.510848Z",
     "shell.execute_reply": "2021-11-27T14:15:30.510154Z",
     "shell.execute_reply.started": "2021-11-27T14:15:30.506016Z"
    }
   },
   "outputs": [],
   "source": [
    "loader = torch.utils.data.DataLoader(dataset, batch_size=16, shuffle=True) "
   ]
  },
  {
   "cell_type": "code",
   "execution_count": null,
   "metadata": {
    "execution": {
     "iopub.execute_input": "2021-11-27T14:15:53.449904Z",
     "iopub.status.busy": "2021-11-27T14:15:53.449632Z",
     "iopub.status.idle": "2021-11-27T14:15:53.455889Z",
     "shell.execute_reply": "2021-11-27T14:15:53.453696Z",
     "shell.execute_reply.started": "2021-11-27T14:15:53.449874Z"
    }
   },
   "outputs": [],
   "source": [
    "from transformers import RobertaConfig\n",
    "\n",
    "config = RobertaConfig(\n",
    "    vocab_size=30_522,  # we align this to the tokenizer vocab_size\n",
    "    max_position_embeddings=514,\n",
    "    hidden_size=768,\n",
    "    num_attention_heads=12,\n",
    "    num_hidden_layers=6,\n",
    "    type_vocab_size=1\n",
    "    )"
   ]
  },
  {
   "cell_type": "code",
   "execution_count": null,
   "metadata": {
    "execution": {
     "iopub.execute_input": "2021-11-27T14:15:57.430237Z",
     "iopub.status.busy": "2021-11-27T14:15:57.429564Z",
     "iopub.status.idle": "2021-11-27T14:15:59.368381Z",
     "shell.execute_reply": "2021-11-27T14:15:59.367626Z",
     "shell.execute_reply.started": "2021-11-27T14:15:57.430195Z"
    }
   },
   "outputs": [],
   "source": [
    "from transformers import RobertaForMaskedLM\n",
    "\n",
    "model = RobertaForMaskedLM(config) "
   ]
  },
  {
   "cell_type": "code",
   "execution_count": null,
   "metadata": {
    "execution": {
     "iopub.execute_input": "2021-11-27T14:16:03.773846Z",
     "iopub.status.busy": "2021-11-27T14:16:03.773557Z",
     "iopub.status.idle": "2021-11-27T14:16:03.85822Z",
     "shell.execute_reply": "2021-11-27T14:16:03.857528Z",
     "shell.execute_reply.started": "2021-11-27T14:16:03.773794Z"
    }
   },
   "outputs": [],
   "source": [
    "device = torch.device('cuda') if torch.cuda.is_available() else torch.device('cpu')\n",
    "# and move our model over to the selected device\n",
    "model.to(device)"
   ]
  },
  {
   "cell_type": "code",
   "execution_count": null,
   "metadata": {
    "execution": {
     "iopub.execute_input": "2021-11-27T14:16:11.253206Z",
     "iopub.status.busy": "2021-11-27T14:16:11.252854Z",
     "iopub.status.idle": "2021-11-27T14:16:11.261852Z",
     "shell.execute_reply": "2021-11-27T14:16:11.259379Z",
     "shell.execute_reply.started": "2021-11-27T14:16:11.253167Z"
    }
   },
   "outputs": [],
   "source": [
    "from transformers import AdamW\n",
    "\n",
    "# activate training mode\n",
    "model.train()\n",
    "# initialize optimizer\n",
    "optim = AdamW(model.parameters(), lr=1e-4)"
   ]
  },
  {
   "cell_type": "code",
   "execution_count": null,
   "metadata": {
    "execution": {
     "iopub.execute_input": "2021-11-27T14:16:28.532731Z",
     "iopub.status.busy": "2021-11-27T14:16:28.532481Z",
     "iopub.status.idle": "2021-11-27T14:23:59.766769Z",
     "shell.execute_reply": "2021-11-27T14:23:59.766057Z",
     "shell.execute_reply.started": "2021-11-27T14:16:28.532702Z"
    }
   },
   "outputs": [],
   "source": [
    "epochs = 2\n",
    "\n",
    "for epoch in range(epochs):\n",
    "    # setup loop with TQDM and dataloader\n",
    "    loop = tqdm(loader, leave=True)\n",
    "    for batch in loop:\n",
    "        # initialize calculated gradients (from prev step)\n",
    "        optim.zero_grad()\n",
    "        # pull all tensor batches required for training\n",
    "        input_ids = batch['input_ids'].to(device)\n",
    "        attention_mask = batch['attention_mask'].to(device)\n",
    "        labels = batch['labels'].to(device)\n",
    "        # process\n",
    "        outputs = model(input_ids, attention_mask=attention_mask,\n",
    "                        labels=labels)\n",
    "        # extract loss\n",
    "        loss = outputs.loss\n",
    "        # calculate loss for every parameter that needs grad update\n",
    "        loss.backward()\n",
    "        # update parameters\n",
    "        optim.step()\n",
    "        # print relevant info to progress bar\n",
    "        loop.set_description(f'Epoch {epoch}')\n",
    "        loop.set_postfix(loss=loss.item()) "
   ]
  },
  {
   "cell_type": "code",
   "execution_count": null,
   "metadata": {
    "execution": {
     "iopub.execute_input": "2021-11-27T14:24:04.403661Z",
     "iopub.status.busy": "2021-11-27T14:24:04.403398Z",
     "iopub.status.idle": "2021-11-27T14:24:04.915516Z",
     "shell.execute_reply": "2021-11-27T14:24:04.914596Z",
     "shell.execute_reply.started": "2021-11-27T14:24:04.403631Z"
    }
   },
   "outputs": [],
   "source": [
    "model.save_pretrained('./bert-bn')"
   ]
  },
  {
   "cell_type": "code",
   "execution_count": null,
   "metadata": {
    "execution": {
     "iopub.execute_input": "2021-11-27T14:24:09.832354Z",
     "iopub.status.busy": "2021-11-27T14:24:09.831648Z",
     "iopub.status.idle": "2021-11-27T14:24:09.838499Z",
     "shell.execute_reply": "2021-11-27T14:24:09.837729Z",
     "shell.execute_reply.started": "2021-11-27T14:24:09.832315Z"
    }
   },
   "outputs": [],
   "source": [
    "from transformers import pipeline"
   ]
  },
  {
   "cell_type": "code",
   "execution_count": null,
   "metadata": {
    "execution": {
     "iopub.execute_input": "2021-11-27T14:24:19.686646Z",
     "iopub.status.busy": "2021-11-27T14:24:19.68587Z",
     "iopub.status.idle": "2021-11-27T14:24:21.796895Z",
     "shell.execute_reply": "2021-11-27T14:24:21.796156Z",
     "shell.execute_reply.started": "2021-11-27T14:24:19.686597Z"
    }
   },
   "outputs": [],
   "source": [
    "fill = pipeline('fill-mask', model='bert-bn', tokenizer='bert-bn')"
   ]
  },
  {
   "cell_type": "code",
   "execution_count": null,
   "metadata": {
    "execution": {
     "iopub.execute_input": "2021-11-27T14:26:36.986493Z",
     "iopub.status.busy": "2021-11-27T14:26:36.986246Z",
     "iopub.status.idle": "2021-11-27T14:26:37.068517Z",
     "shell.execute_reply": "2021-11-27T14:26:37.067704Z",
     "shell.execute_reply.started": "2021-11-27T14:26:36.986465Z"
    }
   },
   "outputs": [],
   "source": [
    "fill(f'বুড়ি মরেছে ভালোই {fill.tokenizer.mask_token}')"
   ]
  }
 ],
 "metadata": {
  "kernelspec": {
   "display_name": "Python 3",
   "language": "python",
   "name": "python3"
  },
  "language_info": {
   "codemirror_mode": {
    "name": "ipython",
    "version": 3
   },
   "file_extension": ".py",
   "mimetype": "text/x-python",
   "name": "python",
   "nbconvert_exporter": "python",
   "pygments_lexer": "ipython3",
   "version": "3.7.6"
  }
 },
 "nbformat": 4,
 "nbformat_minor": 4
}
